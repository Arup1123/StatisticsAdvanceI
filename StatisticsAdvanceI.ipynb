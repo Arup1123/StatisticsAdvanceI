{
 "cells": [
  {
   "cell_type": "markdown",
   "id": "3d38948f",
   "metadata": {},
   "source": [
    "StatisticsAdvance-I"
   ]
  },
  {
   "cell_type": "markdown",
   "id": "3e506eb7",
   "metadata": {},
   "source": [
    "Q1. What is the Probability density function?"
   ]
  },
  {
   "cell_type": "markdown",
   "id": "35e1d7a0",
   "metadata": {},
   "source": [
    "Ans: The probability density function defines the probability function representing the density of a continous random variable\n",
    "     lying between a specific range of values. In other words, the probability density function produces the likelihood of            values of the continous random variable. Sometimes it is also called a probability distribution function or just a              probability function. "
   ]
  },
  {
   "cell_type": "markdown",
   "id": "8bce0c44",
   "metadata": {},
   "source": [
    "Q2. What are the types of Probability Distribution?"
   ]
  },
  {
   "cell_type": "markdown",
   "id": "735e7e03",
   "metadata": {},
   "source": [
    "Ans: Types of Probability Distribution:\n",
    "     1. Normal or Gaussian Distribution\n",
    "     2. Bernouli Distribution\n",
    "     3. Uniform Distribution\n",
    "     4. Poisson Distribution\n",
    "     5. Log Normal Distribution\n",
    "     6. Bionomial Distribution"
   ]
  },
  {
   "cell_type": "markdown",
   "id": "cad3b946",
   "metadata": {},
   "source": [
    "Q3. Write a Python function to calculate the probability density function of a normal distribution with given mean and standerd     deviation at a given point."
   ]
  },
  {
   "cell_type": "code",
   "execution_count": 13,
   "id": "67f350e6",
   "metadata": {},
   "outputs": [
    {
     "name": "stdout",
     "output_type": "stream",
     "text": [
      "Enter the mean: 4\n",
      "Enter the standerd deviation: 2\n",
      "Enter the point: 3\n",
      "pdf at 3.0 is:  0.704130653528599\n"
     ]
    }
   ],
   "source": [
    "#Ans:\n",
    "from math import sqrt,pi,exp\n",
    "M=float(input(\"Enter the mean: \"))\n",
    "sd=float(input(\"Enter the standerd deviation: \"))\n",
    "x=float(input(\"Enter the point: \"))\n",
    "def pdf():\n",
    "    pdf_x=(1/(sqrt(2*pi))*sd)*exp((-1/2)*(x-M)**2/sd**2) \n",
    "    print(f\"pdf at {x} is: \",pdf_x)\n",
    "pdf()    "
   ]
  },
  {
   "cell_type": "markdown",
   "id": "c3a27977",
   "metadata": {},
   "source": [
    " Q4. What are the properties of Bionomial Distribution? Give two examples of events where bionomial distribution can be applied."
   ]
  },
  {
   "cell_type": "markdown",
   "id": "80e2b1cb",
   "metadata": {},
   "source": [
    "Ans: Properties of Bionomial Distribution:\n",
    "     1. There are two possible outcomes: true or false, success or failure yes or no.\n",
    "     2. There are n number of independent trials or a fixed number of n times repeated trials.\n",
    "     3. The probability of success or failure remains the same for each trial.\n",
    "     4. Only the number of success is calculated out of n independent trials.\n",
    "     Examples:\n",
    "     1. Finding the quantity of raw and used materials while making a product.\n",
    "     2. Taking a survey of positive and negetive reviews from the public for any specific product or place."
   ]
  },
  {
   "cell_type": "markdown",
   "id": "85329098",
   "metadata": {},
   "source": [
    "Q5. Generate a random sample of size 1000 from a binomial distribution with probability of success 0.4 and plot a histogram of       the results using matplotlib. "
   ]
  },
  {
   "cell_type": "code",
   "execution_count": 3,
   "id": "d6573c1d",
   "metadata": {},
   "outputs": [
    {
     "data": {
      "image/png": "[encoded data removed]",
      "text/plain": [
       "<Figure size 640x480 with 1 Axes>"
      ]
     },
     "metadata": {},
     "output_type": "display_data"
    }
   ],
   "source": [
    "#Ans:\n",
    "import numpy as np\n",
    "import matplotlib.pyplot as plt\n",
    "s=np.random.binomial(10,0.4,1000)\n",
    "plt.hist(s)\n",
    "plt.show()"
   ]
  },
  {
   "cell_type": "markdown",
   "id": "e9a97759",
   "metadata": {},
   "source": [
    "Q6. Write a python function to calculate the cumulative distribution function of a Poisson distribution with given mean at a         given point."
   ]
  },
  {
   "cell_type": "code",
   "execution_count": 13,
   "id": "512e9cc8",
   "metadata": {},
   "outputs": [
    {
     "name": "stdout",
     "output_type": "stream",
     "text": [
      "cdf at 2 is:  0.029636163880521777\n"
     ]
    }
   ],
   "source": [
    "#Ans:\n",
    "from math import pow,exp,factorial\n",
    "def cdf(Mean,x):\n",
    "    s=0\n",
    "    for i in range(0,x+1):\n",
    "        p=pow(Mean,i)*exp(-Mean)/factorial(i)\n",
    "        s=s+p\n",
    "        \n",
    "    print(f\"cdf at {x} is: \",s)\n",
    "cdf(Mean=7,x=2)    "
   ]
  },
  {
   "cell_type": "markdown",
   "id": "e468fb00",
   "metadata": {},
   "source": [
    "Q7. How Binomial distribution different from Poisson distribution?"
   ]
  },
  {
   "cell_type": "markdown",
   "id": "88cafef2",
   "metadata": {},
   "source": [
    "Ans: 1. The Binomial distribution is one, whose possible number of outcomes are two. Whereas, there is no limit of possible             outcomes in Poisson distribution.\n",
    "     2. Nature of Binomial distribution is Biparametric. Whereas, nature of Poisson distribution is Uniparametric.\n",
    "     3. Number of trials in Binomial distribution is fixed. Whereas, number of trials in Poisson distribution is infinite.\n",
    "     4. The success probability is constant in Binomial distribution. Whereas, in Poisson distribution, there are an extremely\n",
    "        small number of success chances.\n",
    "     5. In Binomial distribution mean>variance. Whereas, in Poisson distribution mean=variance"
   ]
  },
  {
   "cell_type": "markdown",
   "id": "088d3225",
   "metadata": {},
   "source": [
    "Q8. Generate a random sample of size 1000 from a Poisson distribution with mean 5 and calculate the sample mean and variance."
   ]
  },
  {
   "cell_type": "code",
   "execution_count": 14,
   "id": "26a3b35f",
   "metadata": {},
   "outputs": [
    {
     "data": {
      "text/plain": [
       "array([ 7,  6,  2, 14,  5,  3,  3,  5,  6,  5,  5,  8,  5,  4,  5,  9,  6,\n",
       "        4,  8,  4,  6,  3,  3,  7,  6,  6,  3, 12,  5,  2,  1,  7,  7,  1,\n",
       "        5,  9,  6,  6,  2,  5,  1,  3,  2,  8,  4,  1,  9,  0,  3,  6,  6,\n",
       "        7,  8,  5,  8,  5,  6,  5,  1,  3,  6,  5,  4,  4,  7,  3,  3,  4,\n",
       "        9,  9,  2,  5,  1,  5,  6,  3,  3,  3,  4,  6,  2,  4,  6,  6,  4,\n",
       "        2,  5,  7,  7,  7,  4,  6,  4,  8,  7,  9,  2,  4,  3,  3,  5,  6,\n",
       "        1,  1,  7,  2,  8,  7,  5,  6,  8,  2,  7,  2,  5,  6,  4,  8,  3,\n",
       "        4,  6,  2,  6,  3,  4,  5,  6,  4,  2,  6,  2,  5,  7,  5,  4,  7,\n",
       "        4,  5,  4,  7,  4, 12,  5,  2,  8,  3,  8,  8,  6,  7,  6,  2,  8,\n",
       "        8,  3,  6,  2,  6,  8,  5,  4,  6,  4,  8,  3,  6,  7, 11,  7,  7,\n",
       "        7,  7,  7,  2,  5,  5,  3,  5,  2,  5,  7, 10,  5,  3,  2,  5,  4,\n",
       "        6,  8,  4,  3,  2,  4,  3,  8,  6,  6,  6,  5,  2, 11,  7,  5,  1,\n",
       "        5,  6,  5,  3,  7,  3,  2,  4,  6,  9,  9,  3,  3,  3, 13,  3,  7,\n",
       "        5,  2,  5,  1,  5,  3,  5, 11,  3,  6,  4,  4,  6,  6,  4,  4,  5,\n",
       "        4,  6,  5,  0,  5,  4, 10,  1,  7,  4,  3, 11,  6,  2,  6,  5,  6,\n",
       "        8,  4,  7,  7,  7,  7,  5,  7,  3,  6,  4,  5,  7,  2,  6,  7,  5,\n",
       "        6,  2,  5,  4,  4,  4,  2,  4,  9,  7,  2,  9,  5,  3,  4,  4,  6,\n",
       "       10, 10,  2,  3,  2,  5,  2,  4,  6,  2,  8,  3,  4,  4,  4,  5,  5,\n",
       "        6,  7,  2,  4,  3,  5,  7,  5,  4,  3,  8,  8,  5,  5,  6,  7,  7,\n",
       "        6,  4,  7, 10,  6,  2,  7,  5,  4,  2,  3,  6,  6,  3,  9,  3,  4,\n",
       "        8,  7,  5,  4,  4,  6,  3,  6,  5,  6,  8,  6,  8,  7,  7,  2,  8,\n",
       "        4,  5,  3,  5,  4,  6,  4,  4,  4,  4,  4,  6,  6,  5,  3,  7,  8,\n",
       "        8,  2,  3,  8,  4,  2, 11,  5,  6,  6,  7,  4,  6,  3,  6,  6,  5,\n",
       "        4,  2,  6,  4,  4,  9,  7,  4,  6,  2,  5,  9,  4,  6,  4,  6,  7,\n",
       "        1,  6,  3,  6,  2,  7,  2,  3,  5,  5,  3,  5,  4,  2,  7,  2, 12,\n",
       "        5,  6,  2,  4,  6,  8,  3,  6,  4,  8,  3,  6,  4,  3,  6,  5,  7,\n",
       "        3,  4,  5,  5,  4,  5,  4,  5,  4,  5,  6,  7,  3,  5,  5,  3,  7,\n",
       "        7,  3,  8,  3,  8,  4,  5,  3,  5,  1,  5,  2,  3,  6,  3,  3,  3,\n",
       "        4,  3,  5,  4,  6,  2,  6,  4,  8,  4,  6,  6,  8, 10,  9,  4,  5,\n",
       "        6,  3,  1,  7,  5,  3,  6,  7,  3,  5,  6,  4,  4,  3,  3,  5,  2,\n",
       "        4,  6,  5,  2,  6,  8,  9,  2,  7,  3,  4,  5,  5,  1,  5,  2,  2,\n",
       "        4,  6,  4,  3,  6,  4,  2,  7,  9,  8,  8,  4,  4,  5,  5, 10,  6,\n",
       "        3,  5,  8, 11,  4,  3,  5,  1,  6,  4,  7,  7,  2,  2,  2,  8,  4,\n",
       "        6,  7,  4,  6,  4,  6,  5,  5,  7,  5,  3,  4,  3,  7,  8,  3,  3,\n",
       "        1,  4,  6,  4,  5,  6,  3,  4,  3,  5,  1,  6,  2,  5,  6,  6,  4,\n",
       "        7, 10,  6,  4,  6,  2,  4,  3,  7,  8,  3,  4,  3,  2,  8,  4,  2,\n",
       "        5,  7,  2,  6,  5,  4,  5,  6,  6,  6,  4,  5,  4,  3,  6,  4,  2,\n",
       "        5,  9,  3,  5,  7,  4,  5,  4,  4,  3,  5,  4,  5,  1,  5,  4,  9,\n",
       "        7,  3,  6,  4,  4,  6,  6,  3,  4,  2,  6,  4,  5,  7,  4,  5,  3,\n",
       "        6,  4,  3,  5,  6,  6,  2,  5,  3,  2,  2,  4,  3,  6,  4,  5,  9,\n",
       "        4,  9,  5,  5,  8,  8,  3,  4,  6,  9,  4,  7,  5,  6,  5,  4,  3,\n",
       "        3,  3,  3,  4,  4,  5,  3,  7,  6,  7, 12,  8,  5,  1,  6,  3,  6,\n",
       "        5,  5,  4,  6,  3,  4,  0,  6,  5,  5,  6,  3,  4,  5,  2,  6,  4,\n",
       "        5,  3,  5,  3,  6,  3,  4,  3,  3,  0,  3,  3,  6,  6,  1,  3,  4,\n",
       "        7,  7,  3,  5,  5,  3,  5, 10,  6,  2, 12,  4,  9,  5,  5,  8, 10,\n",
       "        2,  7,  6,  6,  8,  6,  4,  3,  8,  6,  5,  5,  6,  4,  5,  7,  5,\n",
       "        5,  4,  5,  7,  6,  4,  6,  8,  2,  5,  2,  8,  8,  5,  5,  6,  6,\n",
       "        6,  5,  7,  8,  5,  6,  9, 12,  6,  7,  5, 11,  7,  4,  3,  4,  5,\n",
       "        7,  7,  2,  1,  5,  3,  1,  4,  8,  4,  4,  5,  4,  6,  7,  2,  1,\n",
       "        9,  6,  3,  7,  7,  4,  9,  6,  9,  4,  7,  4,  9,  6,  4,  3,  6,\n",
       "        6,  6,  4,  5,  2,  6,  4,  4, 11,  5,  2,  7,  6,  5,  3,  2,  3,\n",
       "        2,  6,  4,  4,  6,  6,  5,  4,  6,  7,  8,  9,  4,  4,  5,  9,  6,\n",
       "        6,  4,  4,  8,  6,  4,  6,  8,  5,  6,  2,  4,  6,  3,  5,  7,  3,\n",
       "        0,  2,  5,  3,  4,  5, 13,  6,  2,  3,  7,  0,  3,  4,  6,  7,  1,\n",
       "        9,  2,  6,  0,  2,  4,  7,  4,  4,  2,  2,  6,  2,  3,  1,  2,  4,\n",
       "        4, 15,  5,  4,  7,  5,  8,  3,  7,  6, 11,  2, 10,  1,  9,  1,  4,\n",
       "        3,  5, 10,  5,  9,  3,  8,  3,  1,  3,  4,  6,  7,  8,  6,  1,  4,\n",
       "        6,  4,  6,  5,  5,  5,  2,  3,  2,  4,  3,  2,  4,  5,  5,  7, 10,\n",
       "        4,  6,  3,  3,  2,  6,  3,  3,  5,  2,  8,  6,  4,  4])"
      ]
     },
     "execution_count": 14,
     "metadata": {},
     "output_type": "execute_result"
    }
   ],
   "source": [
    "#Ans:\n",
    "import numpy as np\n",
    "s=np.random.poisson(5,1000)"
   ]
  },
  {
   "cell_type": "code",
   "execution_count": 15,
   "id": "c52f4937",
   "metadata": {},
   "outputs": [
    {
     "name": "stdout",
     "output_type": "stream",
     "text": [
      "Sample mean is:  3.914\n",
      "Variance is :  2.5026040000000003\n"
     ]
    }
   ],
   "source": [
    "print(\"Sample mean is: \",np.mean(s))\n",
    "print(\"Variance is : \",np.var(s))"
   ]
  },
  {
   "cell_type": "markdown",
   "id": "3edcdf9f",
   "metadata": {},
   "source": [
    "Q9. How mean and variance are related in Binomial distribution and Poisson distribution?"
   ]
  },
  {
   "cell_type": "markdown",
   "id": "714ca804",
   "metadata": {},
   "source": [
    "Ans: In Binomial distribution, mean=n*p and variance=n*p*q, where, n=no of trials, p=probability of success and q=1-p\n",
    "     Therefore, relation between mean and variance is mean>variance\n",
    "     In Poisson distribution, mean and variance are equal.                                                                "
   ]
  },
  {
   "cell_type": "markdown",
   "id": "a382857e",
   "metadata": {},
   "source": [
    "Q10. In normal distribution with respect to mean position, where does the least frequent data appear?"
   ]
  },
  {
   "cell_type": "markdown",
   "id": "25d491cb",
   "metadata": {},
   "source": [
    "Ans: The data become less frequent, when farther away from the mean."
   ]
  }
 ],
 "metadata": {
  "kernelspec": {
   "display_name": "Python 3 (ipykernel)",
   "language": "python",
   "name": "python3"
  },
  "language_info": {
   "codemirror_mode": {
    "name": "ipython",
    "version": 3
   },
   "file_extension": ".py",
   "mimetype": "text/x-python",
   "name": "python",
   "nbconvert_exporter": "python",
   "pygments_lexer": "ipython3",
   "version": "3.10.9"
  }
 },
 "nbformat": 4,
 "nbformat_minor": 5
}
